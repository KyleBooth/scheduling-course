{
 "cells": [
  {
   "cell_type": "markdown",
   "metadata": {},
   "source": [
    "### MSCI 555: Scheduling Theory & Practice\n",
    "#### Lecture 5: Easy vs. Hard Problems: The time-complexity of various sorting (lowest-to-highest) algorithms\n",
    "Instructor/Author: Kyle E. C. Booth, kyle.booth@utoronto.ca \n",
    "\n",
    "For general reading on sorting algorithms, refer to Wikipedia (https://en.wikipedia.org/wiki/Sorting_algorithm). Remember, sorting a set of numbers is an *easy* problem (i.e., can be solved polynomial-bounded time). However, it is advantageous to find the most efficient technique even though the problem is easy! Sorting is an operation that is used *a lot*, so we should want the most efficient procedure possible. Sorting is also used in a number of scheduling techniques (notably, dispatch rules).\n",
    "\n",
    "We start by defining the sorting algorithm we came up with in class (let's call it **class sort**)."
   ]
  },
  {
   "cell_type": "code",
   "execution_count": 6,
   "metadata": {},
   "outputs": [],
   "source": [
    "def classSort(alist):\n",
    "    sorted_list = []\n",
    "    while (len(alist)):\n",
    "        select = min(alist)\n",
    "        sorted_list.append(select)\n",
    "        index = alist.index(min(alist))\n",
    "        alist.pop(index)\n",
    "    return sorted_list"
   ]
  },
  {
   "cell_type": "markdown",
   "metadata": {},
   "source": [
    "Next, we will look at **bubble sort** (ref: http://interactivepython.org/runestone/static/pythonds/SortSearch/TheBubbleSort.html)"
   ]
  },
  {
   "cell_type": "code",
   "execution_count": 10,
   "metadata": {},
   "outputs": [],
   "source": [
    "def bubbleSort(alist):\n",
    "    for passnum in range(len(alist)-1,0,-1):\n",
    "        for i in range(passnum):\n",
    "            if alist[i]>alist[i+1]:\n",
    "                temp = alist[i]\n",
    "                alist[i] = alist[i+1]\n",
    "                alist[i+1] = temp\n",
    "    return alist"
   ]
  },
  {
   "cell_type": "markdown",
   "metadata": {},
   "source": [
    "Also **quick sort** (ref: https://stackoverflow.com/questions/18262306/quicksort-with-python)"
   ]
  },
  {
   "cell_type": "code",
   "execution_count": 3,
   "metadata": {},
   "outputs": [],
   "source": [
    "def quickSort(alist):\n",
    "    less = []\n",
    "    equal = []\n",
    "    greater = []\n",
    "    if len(alist) > 1:\n",
    "        pivot = alist[0]\n",
    "        for x in alist:\n",
    "            if x < pivot:\n",
    "                less.append(x)\n",
    "            elif x == pivot:\n",
    "                equal.append(x)\n",
    "            else:\n",
    "                greater.append(x)\n",
    "        return quickSort(less)+equal+quickSort(greater) \n",
    "    else:  \n",
    "        return alist"
   ]
  },
  {
   "cell_type": "markdown",
   "metadata": {},
   "source": [
    "And finally Python's default sort algorithm."
   ]
  },
  {
   "cell_type": "code",
   "execution_count": 4,
   "metadata": {},
   "outputs": [],
   "source": [
    "def defaultSort(alist):\n",
    "    alist.sort()\n",
    "    return alist"
   ]
  },
  {
   "cell_type": "markdown",
   "metadata": {},
   "source": [
    "Let's test them for correctness."
   ]
  },
  {
   "cell_type": "code",
   "execution_count": 59,
   "metadata": {},
   "outputs": [
    {
     "name": "stdout",
     "output_type": "stream",
     "text": [
      "Original list: \n",
      " [10, 50, 62, 1, 3, 101, 20]\n",
      "Sorted lists: \n",
      " [1, 3, 10, 20, 50, 62, 101] \n",
      " [1, 3, 10, 20, 50, 62, 101] \n",
      " [1, 3, 10, 20, 50, 62, 101] \n",
      " [1, 3, 10, 20, 50, 62, 101]\n"
     ]
    }
   ],
   "source": [
    "test_list = [10, 50, 62, 1, 3, 101, 20]\n",
    "print (\"Original list:\", '\\n', test_list)\n",
    "class_sorted = classSort(test_list.copy())\n",
    "bubble_sorted = bubbleSort(test_list.copy())\n",
    "quick_sorted = quickSort(test_list.copy())\n",
    "default_sorted = defaultSort(test_list.copy())\n",
    "print (\"Sorted lists:\", '\\n', class_sorted, '\\n', bubble_sorted, '\\n', quick_sorted, '\\n', default_sorted)\n"
   ]
  },
  {
   "cell_type": "markdown",
   "metadata": {},
   "source": [
    "Now, let's run the algorithms on various problem sizes and measure how long it takes them to solve the problem (i.e., sort the values low-to-high). Running this will take ~20-30 seconds."
   ]
  },
  {
   "cell_type": "code",
   "execution_count": 56,
   "metadata": {},
   "outputs": [],
   "source": [
    "import random\n",
    "import time\n",
    "\n",
    "input_size = [10, 50, 100, 200, 500, 1000, 2000, 4000, 6000, 10000]\n",
    "class_runtime = []\n",
    "bubble_runtime = []\n",
    "quick_runtime = []\n",
    "default_runtime = []\n",
    "\n",
    "for size in input_size:\n",
    "    \n",
    "    alist = [random.randint(1,100) for x in range(size)]\n",
    "    \n",
    "    ## Class Sort\n",
    "    start = time.time()\n",
    "    classSort(alist.copy())\n",
    "    end = time.time()\n",
    "    class_runtime.append(end-start)\n",
    "    \n",
    "    ## Bubble Sort\n",
    "    start = time.time()\n",
    "    bubbleSort(alist.copy())\n",
    "    end = time.time()\n",
    "    bubble_runtime.append(end-start)\n",
    "    \n",
    "    ## Quick Sort\n",
    "    start = time.time()\n",
    "    quickSort(alist.copy())\n",
    "    end = time.time()\n",
    "    quick_runtime.append(end-start)\n",
    "    \n",
    "    ## Default Sort\n",
    "    start = time.time()\n",
    "    defaultSort(alist.copy())\n",
    "    end = time.time()\n",
    "    default_runtime.append(end-start)\n"
   ]
  },
  {
   "cell_type": "markdown",
   "metadata": {},
   "source": [
    "Now, let's plot the runtime profiles. "
   ]
  },
  {
   "cell_type": "code",
   "execution_count": 57,
   "metadata": {},
   "outputs": [
    {
     "data": {
      "image/png": "[encoded data removed]",
      "text/plain": [
       "<Figure size 432x288 with 1 Axes>"
      ]
     },
     "metadata": {},
     "output_type": "display_data"
    }
   ],
   "source": [
    "import matplotlib.pyplot as plt\n",
    "%matplotlib inline\n",
    "\n",
    "plt.plot(input_size, class_runtime)\n",
    "plt.plot(input_size, bubble_runtime)\n",
    "plt.plot(input_size, quick_runtime)\n",
    "plt.plot(input_size, default_runtime)\n",
    "plt.legend(['classSort', 'bubbleSort', 'quickSort', 'defaultSort'], loc='upper left')\n",
    "plt.ylabel(\"Runtime (s)\")\n",
    "plt.xlabel(\"Input size (numbers sorted)\")\n",
    "plt.show()"
   ]
  },
  {
   "cell_type": "markdown",
   "metadata": {},
   "source": [
    "Wow, default and quick sort are very fast! Let's just look at those."
   ]
  },
  {
   "cell_type": "code",
   "execution_count": 58,
   "metadata": {},
   "outputs": [
    {
     "data": {
      "image/png": "[encoded data removed]",
      "text/plain": [
       "<Figure size 432x288 with 1 Axes>"
      ]
     },
     "metadata": {},
     "output_type": "display_data"
    }
   ],
   "source": [
    "plt.plot(input_size, quick_runtime)\n",
    "plt.plot(input_size, default_runtime)\n",
    "plt.legend(['quickSort', 'defaultSort'], loc='upper left')\n",
    "plt.ylabel(\"Runtime (s)\")\n",
    "plt.xlabel(\"Input size (numbers sorted)\")\n",
    "plt.show()"
   ]
  },
  {
   "cell_type": "markdown",
   "metadata": {},
   "source": [
    "Default sort is the fastest! Looks like Python has its stuff together... What algorithm does it use? Consult the Python documentation."
   ]
  }
 ],
 "metadata": {
  "kernelspec": {
   "display_name": "Python 3",
   "language": "python",
   "name": "python3"
  },
  "language_info": {
   "codemirror_mode": {
    "name": "ipython",
    "version": 3
   },
   "file_extension": ".py",
   "mimetype": "text/x-python",
   "name": "python",
   "nbconvert_exporter": "python",
   "pygments_lexer": "ipython3",
   "version": "3.5.2"
  }
 },
 "nbformat": 4,
 "nbformat_minor": 2
}
