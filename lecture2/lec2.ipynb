{
 "cells": [
  {
   "cell_type": "markdown",
   "metadata": {},
   "source": [
    "### MSCI 555: Scheduling Theory & Practice\n",
    "#### Lecture 2: Critical Path Method (CPM): Precedence Graph & Forward Procedure\n",
    "Instructor/Author: Kyle E. C. Booth, kyle.booth@utoronto.ca  \n",
    "Graphviz installation instructions: https://graphviz.readthedocs.io/en/stable/manual.html"
   ]
  },
  {
   "cell_type": "code",
   "execution_count": 1,
   "metadata": {},
   "outputs": [],
   "source": [
    "from graphviz import Digraph"
   ]
  },
  {
   "cell_type": "markdown",
   "metadata": {},
   "source": [
    "Step 1. Define your set of jobs (e.g., tasks for the Thanksgiving dinner example problem)."
   ]
  },
  {
   "cell_type": "code",
   "execution_count": 17,
   "metadata": {},
   "outputs": [],
   "source": [
    "## Job set definition (Note: change this for your problem)\n",
    "## Format: {j: [p_j, [pred_1, pred_2, ..., pred_n]]}\n",
    "\n",
    "jobs = {1: [2, []], \n",
    "        2: [3, []], \n",
    "        3: [1, []], \n",
    "        4: [4, [1, 2]], \n",
    "        5: [2, [2]],\n",
    "        6: [1, [4]],\n",
    "        7: [5, [1, 2, 3, 4, 5, 6]]\n",
    "       }"
   ]
  },
  {
   "cell_type": "markdown",
   "metadata": {},
   "source": [
    "Step 2. Draw the precedence graph."
   ]
  },
  {
   "cell_type": "code",
   "execution_count": 19,
   "metadata": {},
   "outputs": [
    {
     "data": {
      "text/plain": [
       "'precedence-graph.gv.pdf'"
      ]
     },
     "execution_count": 19,
     "metadata": {},
     "output_type": "execute_result"
    }
   ],
   "source": [
    "## Precedence Graph (using graphviz)\n",
    "\n",
    "dot = Digraph(comment='Precedence Graph')\n",
    "dot.graph_attr['rankdir'] = 'LR'\n",
    "for key, value in jobs.items():\n",
    "    dot.node(str(key))\n",
    "    for job in value[1]:\n",
    "        dot.edge(str(job), str(key))\n",
    "dot.render('precedence-graph.gv', view=True)  "
   ]
  },
  {
   "cell_type": "markdown",
   "metadata": {},
   "source": [
    "Step 3. Calculate the shortest makespan using the forward procedure."
   ]
  },
  {
   "cell_type": "code",
   "execution_count": 20,
   "metadata": {
    "scrolled": true
   },
   "outputs": [
    {
     "name": "stdout",
     "output_type": "stream",
     "text": [
      "CPM: Initiating forward procedure. \n",
      "\n",
      "Job 1: S' = 0, C' = 2.\n",
      "Job 2: S' = 0, C' = 3.\n",
      "Job 3: S' = 0, C' = 1.\n",
      "Job 4: S' = 3, C' = 7.\n",
      "Job 5: S' = 3, C' = 5.\n",
      "Job 6: S' = 7, C' = 8.\n",
      "Job 7: S' = 8, C' = 13.\n",
      "\n",
      "The makespan, C_{max}, is 13.\n"
     ]
    }
   ],
   "source": [
    "## Forward procedure (makespan calculation)\n",
    "## Note: assumes no cycles (i.e., precedence in ascending order)\n",
    "\n",
    "# Add earliest/latest start/completion times to job definition\n",
    "for key, value in jobs.items():\n",
    "    if len(value) == 2:\n",
    "        jobs[key].append({\"S'\": 0, \"S''\": 0, \"C'\": 0, \"C''\": 0})\n",
    "\n",
    "# Conduct forward procedure\n",
    "print (\"CPM: Initiating forward procedure. \\n\")\n",
    "for key, value in jobs.items():\n",
    "    # No job predecessors\n",
    "    if not value[1]:\n",
    "        value[2][\"C'\"] = value[0]\n",
    "    # Jobs with predecessors\n",
    "    else:\n",
    "        value[2][\"S'\"] = max([jobs[x][2][\"C'\"] for x in value[1]])\n",
    "        value[2][\"C'\"] = value[2][\"S'\"] + value[0]\n",
    "    print (\"Job %d: S' = %d, C' = %d.\" % (key, value[2][\"S'\"], value[2][\"C'\"]))\n",
    "\n",
    "makespan = max([value[2][\"C'\"] for key, value in jobs.items()])\n",
    "print (\"\\nThe makespan, C_{max}, is %s.\" % makespan)            "
   ]
  }
 ],
 "metadata": {
  "kernelspec": {
   "display_name": "Python 3",
   "language": "python",
   "name": "python3"
  },
  "language_info": {
   "codemirror_mode": {
    "name": "ipython",
    "version": 3
   },
   "file_extension": ".py",
   "mimetype": "text/x-python",
   "name": "python",
   "nbconvert_exporter": "python",
   "pygments_lexer": "ipython3",
   "version": "3.5.2"
  }
 },
 "nbformat": 4,
 "nbformat_minor": 2
}
