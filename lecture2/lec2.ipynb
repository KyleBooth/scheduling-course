{
 "cells": [
  {
   "cell_type": "markdown",
   "metadata": {},
   "source": [
    "### MSCI 555: Scheduling Theory & Practice\n",
    "#### Lecture 2: Critical Path Method (CPM): Precedence Graph & Forward Procedure\n",
    "Instructor/Author: Kyle E. C. Booth, kyle.booth@utoronto.ca  \n",
    "Graphviz installation instructions: https://graphviz.readthedocs.io/en/stable/manual.html"
   ]
  },
  {
   "cell_type": "code",
   "execution_count": 1,
   "metadata": {},
   "outputs": [],
   "source": [
    "from graphviz import Digraph"
   ]
  },
  {
   "cell_type": "markdown",
   "metadata": {},
   "source": [
    "Step 1. Define your set of jobs (e.g., tasks for the Thanksgiving dinner example problem)."
   ]
  },
  {
   "cell_type": "code",
   "execution_count": 54,
   "metadata": {},
   "outputs": [],
   "source": [
    "## Job set definition (Note: change this for your problem)\n",
    "## Format: {j: [p_j, [pred_1, pred_2, ..., pred_n]]}\n",
    "\n",
    "jobs = {\"s\" : [0, []],\n",
    "        \"J0R0\": [15, [\"s\"]], \n",
    "        \"J1R0\": [10, [\"s\"]], \n",
    "        \"J0R1\": [5, [\"J0R0\"]], \n",
    "        \"J1R1\": [15, [\"J1R0\"]], \n",
    "        \"t\" : [0, [\"J0R1\"]]\n",
    "       }"
   ]
  },
  {
   "cell_type": "markdown",
   "metadata": {},
   "source": [
    "Step 2. Draw the precedence graph."
   ]
  },
  {
   "cell_type": "code",
   "execution_count": 7,
   "metadata": {},
   "outputs": [
    {
     "data": {
      "text/plain": [
       "'precedence-graph.gv.png'"
      ]
     },
     "execution_count": 7,
     "metadata": {},
     "output_type": "execute_result"
    }
   ],
   "source": [
    "## Precedence Graph (using graphviz)\n",
    "\n",
    "dot = Digraph(comment='Precedence Graph', format='png')\n",
    "dot.graph_attr['rankdir'] = 'LR'\n",
    "for key, value in jobs.items():\n",
    "    dot.node(str(key))\n",
    "    for job in value[1]:\n",
    "        dot.edge(str(job), str(key))\n",
    "dot.render('precedence-graph.gv', view=True)  "
   ]
  },
  {
   "cell_type": "markdown",
   "metadata": {},
   "source": [
    "Step 3. Calculate the shortest makespan using the forward procedure."
   ]
  },
  {
   "cell_type": "code",
   "execution_count": 55,
   "metadata": {
    "scrolled": true
   },
   "outputs": [
    {
     "name": "stdout",
     "output_type": "stream",
     "text": [
      "CPM: Initiating forward procedure. \n",
      "\n",
      "Job s: S' = 0, C' = 0.\n",
      "Job J0R0: S' = 0, C' = 15.\n",
      "Job J1R0: S' = 0, C' = 10.\n",
      "Job J1R1: S' = 10, C' = 25.\n",
      "Job J0R1: S' = 15, C' = 20.\n",
      "Job t: S' = 20, C' = 20.\n",
      "\n",
      "The makespan, C_{max}, is 25.\n"
     ]
    }
   ],
   "source": [
    "## Forward procedure (makespan calculation)\n",
    "def checkCompletions(prec_list):\n",
    "    result = True\n",
    "    for item in prec_list:\n",
    "        if jobs[item][2][\"C'\"] == \"\":\n",
    "            result = False\n",
    "    return result\n",
    "\n",
    "# Add earliest/latest start/completion times to job definition\n",
    "for key, value in jobs.items():\n",
    "    if len(value) == 2:\n",
    "        jobs[key].append({\"S'\": \"\", \"S''\": \"\", \"C'\": \"\", \"C''\": \"\"})\n",
    "\n",
    "# Conduct forward procedure\n",
    "print (\"CPM: Initiating forward procedure. \\n\")\n",
    "\n",
    "cpm = False\n",
    "while not cpm:\n",
    "    changeFlag = False\n",
    "    for key, value in jobs.items():\n",
    "        if not value[1] and value[2][\"S'\"] != 0:\n",
    "            value[2][\"S'\"] = 0\n",
    "            value[2][\"C'\"] = value[0]  \n",
    "            print (\"Job %s: S' = %d, C' = %d.\" % (key, value[2][\"S'\"], value[2][\"C'\"]))\n",
    "            changeFlag = True\n",
    "        elif value[1] and value[2][\"S'\"] == \"\":\n",
    "            prec_complete = checkCompletions(value[1])\n",
    "            if prec_complete:\n",
    "                value[2][\"S'\"] = max([jobs[x][2][\"C'\"] for x in value[1]])\n",
    "                value[2][\"C'\"] = value[2][\"S'\"] + value[0]\n",
    "                print (\"Job %s: S' = %d, C' = %d.\" % (key, value[2][\"S'\"], value[2][\"C'\"]))\n",
    "                changeFlag = True\n",
    "    if not changeFlag:\n",
    "        cpm = True\n",
    "\n",
    "makespan = max([value[2][\"C'\"] for key, value in jobs.items()])\n",
    "print (\"\\nThe makespan, C_{max}, is %s.\" % makespan)            "
   ]
  }
 ],
 "metadata": {
  "kernelspec": {
   "display_name": "Python 3",
   "language": "python",
   "name": "python3"
  },
  "language_info": {
   "codemirror_mode": {
    "name": "ipython",
    "version": 3
   },
   "file_extension": ".py",
   "mimetype": "text/x-python",
   "name": "python",
   "nbconvert_exporter": "python",
   "pygments_lexer": "ipython3",
   "version": "3.5.2"
  }
 },
 "nbformat": 4,
 "nbformat_minor": 2
}
